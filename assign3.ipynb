{
 "cells": [
  {
   "cell_type": "markdown",
   "id": "05f1d85e-4246-4c29-9c07-8fa9bbd65d95",
   "metadata": {},
   "source": [
    "Ques 1 : Which keyword is used to create a function? Create a function to return a list of odd numbers in the \n",
    "range of 1 to 25."
   ]
  },
  {
   "cell_type": "markdown",
   "id": "e751329e-42fb-4919-86ad-3d624da0a2c9",
   "metadata": {},
   "source": [
    "Ans: 'def' keyword "
   ]
  },
  {
   "cell_type": "code",
   "execution_count": 10,
   "id": "5e08a420-d37b-4965-b307-f2a9352b7c71",
   "metadata": {},
   "outputs": [],
   "source": [
    "l=[1,2,3,4,5,6,7,8,9,10,11,12,13,14,15,16,17,18,19,20,21,22,23,24,25]\n",
    "l1=[]\n",
    "def odd():\n",
    "    for i in l:\n",
    "        if i%2!=0:\n",
    "            l1.append(i)\n",
    "    print(l1)\n",
    "        "
   ]
  },
  {
   "cell_type": "code",
   "execution_count": 11,
   "id": "b23df8ee-912d-4e3c-bcb1-9bf030d35918",
   "metadata": {},
   "outputs": [
    {
     "name": "stdout",
     "output_type": "stream",
     "text": [
      "[1, 3, 5, 7, 9, 11, 13, 15, 17, 19, 21, 23, 25]\n"
     ]
    }
   ],
   "source": [
    "odd()"
   ]
  },
  {
   "cell_type": "markdown",
   "id": "25c22ee6-7140-4822-bfe1-2a6c204c0a24",
   "metadata": {},
   "source": [
    "Ques2: Why *args and **kwargs is used in some functions? Create a function each for *args and **kwargs \n",
    "to demonstrate their use."
   ]
  },
  {
   "cell_type": "markdown",
   "id": "dbe183b2-8487-4258-87dd-7ea9b986f957",
   "metadata": {},
   "source": [
    "Ans:"
   ]
  },
  {
   "cell_type": "code",
   "execution_count": 12,
   "id": "b6d32d92-596f-4b5a-8254-0b99a14a4779",
   "metadata": {},
   "outputs": [],
   "source": [
    "def one(*args):\n",
    "    return args"
   ]
  },
  {
   "cell_type": "code",
   "execution_count": 13,
   "id": "392dcbb7-09f3-4c78-9ffe-33c4966b5a44",
   "metadata": {},
   "outputs": [
    {
     "data": {
      "text/plain": [
       "(1, 2, 3, 4)"
      ]
     },
     "execution_count": 13,
     "metadata": {},
     "output_type": "execute_result"
    }
   ],
   "source": [
    "one(1,2,3,4)"
   ]
  },
  {
   "cell_type": "code",
   "execution_count": 14,
   "id": "b9677a0d-dbca-4355-ae22-64c22897c1b5",
   "metadata": {},
   "outputs": [],
   "source": [
    "def two(**kwargs):\n",
    "    return kwargs"
   ]
  },
  {
   "cell_type": "code",
   "execution_count": 16,
   "id": "27c62a5c-4454-4272-94cd-9c3e93da513a",
   "metadata": {},
   "outputs": [
    {
     "data": {
      "text/plain": [
       "{'a': 'arsh', 'b': 'deep'}"
      ]
     },
     "execution_count": 16,
     "metadata": {},
     "output_type": "execute_result"
    }
   ],
   "source": [
    "two(a=\"arsh\",b=\"deep\")"
   ]
  },
  {
   "cell_type": "markdown",
   "id": "4556323a-9989-4697-ab42-543893946bf0",
   "metadata": {},
   "source": [
    "*args :      to pass the variable number of non keyword arguments to function.  The arguments are passed as a tuple\n",
    "**kwargs:    to pass the variable length of keyword arguments to the function. The arguments are passed as a dictionary"
   ]
  },
  {
   "cell_type": "markdown",
   "id": "b7caf2be-0ac6-465b-a326-d01edaff35f7",
   "metadata": {},
   "source": [
    "Ques3:  What is an iterator in python? Name the method used to initialise the iterator object and the method \n",
    "used for iteration. Use these methods to print the first five elements of the given list [2, 4, 6, 8, 10, 12, 14, \n",
    "16, 18, 20]."
   ]
  },
  {
   "cell_type": "markdown",
   "id": "ef1408db-acf0-41cd-892d-98feab2355ba",
   "metadata": {},
   "source": [
    "Ans: An iterator is an object that can be iterated upon.\n",
    "Methods are next() and iter()"
   ]
  },
  {
   "cell_type": "code",
   "execution_count": 17,
   "id": "6471e428-2c5c-45d6-9eca-0e530e5161a5",
   "metadata": {},
   "outputs": [
    {
     "name": "stdout",
     "output_type": "stream",
     "text": [
      "2\n"
     ]
    }
   ],
   "source": [
    "l=[2, 4, 6, 8, 10, 12, 14, 16, 18, 20]\n",
    "a=iter(l)\n",
    "print(next(a))"
   ]
  },
  {
   "cell_type": "code",
   "execution_count": 18,
   "id": "e0bb5366-e8fb-4157-9e19-fcb3a792434d",
   "metadata": {},
   "outputs": [
    {
     "name": "stdout",
     "output_type": "stream",
     "text": [
      "4\n"
     ]
    }
   ],
   "source": [
    "print(next(a))"
   ]
  },
  {
   "cell_type": "code",
   "execution_count": 19,
   "id": "99033a6a-88df-4457-860c-640e1e0b7319",
   "metadata": {},
   "outputs": [
    {
     "name": "stdout",
     "output_type": "stream",
     "text": [
      "6\n"
     ]
    }
   ],
   "source": [
    "print(next(a))"
   ]
  },
  {
   "cell_type": "code",
   "execution_count": 20,
   "id": "c132ac24-5522-4eeb-8914-0f25f38ace29",
   "metadata": {},
   "outputs": [
    {
     "name": "stdout",
     "output_type": "stream",
     "text": [
      "8\n"
     ]
    }
   ],
   "source": [
    "print(next(a))"
   ]
  },
  {
   "cell_type": "code",
   "execution_count": 21,
   "id": "2c8cce6e-c579-4fca-9c0f-14c9f2d47641",
   "metadata": {},
   "outputs": [
    {
     "name": "stdout",
     "output_type": "stream",
     "text": [
      "10\n"
     ]
    }
   ],
   "source": [
    "print(next(a))"
   ]
  },
  {
   "cell_type": "markdown",
   "id": "d13072e1-2860-4e08-88d1-169549c1667f",
   "metadata": {},
   "source": [
    "Ques4:  What is a generator function in python? Why yield keyword is used? Give an example of a generator \n",
    "function."
   ]
  },
  {
   "cell_type": "markdown",
   "id": "c4abe0a0-1985-4cee-a60e-78c2446c5a44",
   "metadata": {},
   "source": [
    "It allows you to declare a function that behaves like an iterator and doesn't store any data in memory. yield keyword controls the controls the flow of a generator function"
   ]
  },
  {
   "cell_type": "code",
   "execution_count": 24,
   "id": "6fb7bc5d-864a-4d19-87ae-38af980f67f3",
   "metadata": {},
   "outputs": [
    {
     "name": "stdout",
     "output_type": "stream",
     "text": [
      "1\n",
      "2\n",
      "3\n",
      "4\n",
      "5\n"
     ]
    }
   ],
   "source": [
    "def yie(n):\n",
    "    count=1\n",
    "    for i in range(n):\n",
    "        yield count\n",
    "        count = count + 1\n",
    "for i in yie(5):\n",
    "    print(i)\n"
   ]
  },
  {
   "cell_type": "markdown",
   "id": "b994b006-97ce-4b84-ab7d-18cf1693941b",
   "metadata": {},
   "source": [
    "Ques5: Create a generator function for prime numbers less than 1000. Use the next() method to print the \n",
    "first 20 prime numbers."
   ]
  },
  {
   "cell_type": "code",
   "execution_count": null,
   "id": "b45910dc-b552-49ed-af3d-a46d2d7334a5",
   "metadata": {},
   "outputs": [],
   "source": [
    "def prime(n):\n",
    "    count=2\n",
    "    while count<n:\n",
    "        l=count//2+1\n",
    "        for i in (2,l):\n",
    "            r=count%i\n",
    "            if r==0:\n",
    "                break\n",
    "            else:\n",
    "                yield count\n",
    "        count = count + 1\n",
    "p=prime(1000)\n",
    "for i in range(20):\n",
    "    print(next(p))\n",
    "    "
   ]
  },
  {
   "cell_type": "markdown",
   "id": "c14c9ec3-44b5-4c0b-bb94-8c332f48e71b",
   "metadata": {},
   "source": [
    "Ques6: Write a python program to print the first 10 Fibonacci numbers using a while loop."
   ]
  },
  {
   "cell_type": "code",
   "execution_count": 25,
   "id": "3d81c6b9-0169-4a42-9c86-7efd112b0446",
   "metadata": {},
   "outputs": [
    {
     "name": "stdout",
     "output_type": "stream",
     "text": [
      "0\n",
      "1\n",
      "1\n",
      "2\n",
      "3\n",
      "5\n",
      "8\n",
      "13\n",
      "21\n",
      "34\n"
     ]
    }
   ],
   "source": [
    "def fibo(n):\n",
    "    a,b=0,1\n",
    "    while True:\n",
    "        yield a\n",
    "        a,b=b,a+b\n",
    "fib=fibo(10)\n",
    "for i in range(10):\n",
    "    print(next(fib))"
   ]
  },
  {
   "cell_type": "markdown",
   "id": "52241380-60ec-4ccb-80b3-e25ecbd0d55a",
   "metadata": {},
   "source": [
    "Ques7: Write a List Comprehension to iterate through the given string: ‘pwskills’.\n",
    " Expected output: ['p', 'w', 's', 'k', 'i', 'l', 'l', 's'] "
   ]
  },
  {
   "cell_type": "code",
   "execution_count": 31,
   "id": "8817d09c-cca5-4771-a0d7-f35dc7dae45b",
   "metadata": {},
   "outputs": [
    {
     "data": {
      "text/plain": [
       "['p', 'w', 's', 'k', 'i', 'l', 'l', 's']"
      ]
     },
     "execution_count": 31,
     "metadata": {},
     "output_type": "execute_result"
    }
   ],
   "source": [
    "s=\"pwskills\"\n",
    "list(map(lambda s : s , s))"
   ]
  },
  {
   "cell_type": "markdown",
   "id": "1e9a264d-7b41-43d3-af93-75a57abd12d9",
   "metadata": {},
   "source": [
    "Ques8: Write a python program to check whether a given number is Palindrome or not using a while loop."
   ]
  },
  {
   "cell_type": "code",
   "execution_count": 32,
   "id": "4626cf01-0680-45b7-80b2-609ecf3627cf",
   "metadata": {},
   "outputs": [
    {
     "name": "stdin",
     "output_type": "stream",
     "text": [
      "Enter any  digit number:= 4444\n"
     ]
    },
    {
     "name": "stdout",
     "output_type": "stream",
     "text": [
      "reverse= 4444\n",
      "\n",
      "Number is palindrome\n"
     ]
    }
   ],
   "source": [
    "n=int(input(\"Enter any  digit number:=\"))\n",
    "t=n\n",
    "r=0\n",
    "while t!=0:\n",
    "    d=t%10\n",
    "    r=(r*10)+d\n",
    "    t=t//10\n",
    "print(\"reverse=\",r)          \n",
    "print()\n",
    "if r==n:\n",
    "    print(\"Number is palindrome\")\n",
    "else:\n",
    "    print(\"Number is not palindrome\")"
   ]
  },
  {
   "cell_type": "markdown",
   "id": "0807bd80-cc70-47a1-bd6b-3701a934e858",
   "metadata": {},
   "source": [
    "Ques9: Write a code to print odd numbers from 1 to 100 using list comprehension.\n",
    "Note: Use a list comprehension to create a list from 1 to 100 and use another List comprehension to filter \n",
    "out odd numbers"
   ]
  },
  {
   "cell_type": "code",
   "execution_count": 52,
   "id": "eaf1bd9b-236e-44c4-8086-850416785d59",
   "metadata": {},
   "outputs": [],
   "source": [
    "l=[]\n",
    "for i in range(1,101):\n",
    "    l.append(i)"
   ]
  },
  {
   "cell_type": "code",
   "execution_count": 54,
   "id": "b6c3e852-a39d-47bc-a72d-fd40bbe2dd42",
   "metadata": {},
   "outputs": [
    {
     "data": {
      "text/plain": [
       "[1,\n",
       " 3,\n",
       " 5,\n",
       " 7,\n",
       " 9,\n",
       " 11,\n",
       " 13,\n",
       " 15,\n",
       " 17,\n",
       " 19,\n",
       " 21,\n",
       " 23,\n",
       " 25,\n",
       " 27,\n",
       " 29,\n",
       " 31,\n",
       " 33,\n",
       " 35,\n",
       " 37,\n",
       " 39,\n",
       " 41,\n",
       " 43,\n",
       " 45,\n",
       " 47,\n",
       " 49,\n",
       " 51,\n",
       " 53,\n",
       " 55,\n",
       " 57,\n",
       " 59,\n",
       " 61,\n",
       " 63,\n",
       " 65,\n",
       " 67,\n",
       " 69,\n",
       " 71,\n",
       " 73,\n",
       " 75,\n",
       " 77,\n",
       " 79,\n",
       " 81,\n",
       " 83,\n",
       " 85,\n",
       " 87,\n",
       " 89,\n",
       " 91,\n",
       " 93,\n",
       " 95,\n",
       " 97,\n",
       " 99]"
      ]
     },
     "execution_count": 55,
     "metadata": {},
     "output_type": "execute_result"
    }
   ],
   "source": []
  },
  {
   "cell_type": "code",
   "execution_count": null,
   "id": "548299ad-9deb-4ab0-9c26-ce1a82bcc756",
   "metadata": {},
   "outputs": [],
   "source": []
  }
 ],
 "metadata": {
  "kernelspec": {
   "display_name": "Python 3 (ipykernel)",
   "language": "python",
   "name": "python3"
  },
  "language_info": {
   "codemirror_mode": {
    "name": "ipython",
    "version": 3
   },
   "file_extension": ".py",
   "mimetype": "text/x-python",
   "name": "python",
   "nbconvert_exporter": "python",
   "pygments_lexer": "ipython3",
   "version": "3.10.8"
  }
 },
 "nbformat": 4,
 "nbformat_minor": 5
}
